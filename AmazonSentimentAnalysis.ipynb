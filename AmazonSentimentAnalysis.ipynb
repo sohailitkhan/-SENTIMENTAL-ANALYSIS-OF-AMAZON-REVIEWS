{
  "nbformat": 4,
  "nbformat_minor": 0,
  "metadata": {
    "colab": {
      "provenance": []
    },
    "kernelspec": {
      "name": "python3",
      "display_name": "Python 3"
    },
    "language_info": {
      "name": "python"
    }
  },
  "cells": [
    {
      "cell_type": "code",
      "source": [
        "import nltk\n",
        "nltk.download('vader_lexicon')"
      ],
      "metadata": {
        "colab": {
          "base_uri": "https://localhost:8080/"
        },
        "id": "NtbRVh8_cnYT",
        "outputId": "677f9e6a-5dfb-4bb5-fe8a-03ebc3e08687"
      },
      "execution_count": 6,
      "outputs": [
        {
          "output_type": "stream",
          "name": "stderr",
          "text": [
            "[nltk_data] Downloading package vader_lexicon to /root/nltk_data...\n"
          ]
        },
        {
          "output_type": "execute_result",
          "data": {
            "text/plain": [
              "True"
            ]
          },
          "metadata": {},
          "execution_count": 6
        }
      ]
    },
    {
      "cell_type": "code",
      "execution_count": 10,
      "metadata": {
        "colab": {
          "base_uri": "https://localhost:8080/"
        },
        "id": "R1FDiHR_YqiP",
        "outputId": "4f860b6e-0637-4c9a-a822-54e2ade40cd3"
      },
      "outputs": [
        {
          "output_type": "stream",
          "name": "stdout",
          "text": [
            "Accuracy TextBlob: 0.8181078331637843\n",
            "Accuracy VADER: 0.7635808748728382\n"
          ]
        }
      ],
      "source": [
        "import pandas as pd\n",
        "from textblob import TextBlob\n",
        "from nltk.sentiment.vader import SentimentIntensityAnalyzer\n",
        "from transformers import BertTokenizer, BertForSequenceClassification\n",
        "from sklearn.metrics import accuracy_score\n",
        "\n",
        "# Load the Amazon review data\n",
        "data = pd.read_csv(r\"/content/drive/MyDrive/Datasets/amazon_reviews.csv\")\n",
        "\n",
        "df = pd.DataFrame(data)\n",
        "df['reviewText'] = df['reviewText'].astype(str)\n",
        "\n",
        "# Sentiment analysis using TextBlob\n",
        "def analyzesentimenttextblob(text):\n",
        "    analysis = TextBlob(text)\n",
        "    return 'positive' if analysis.sentiment.polarity > 0 else 'negative' if analysis.sentiment.polarity < 0 else 'neutral'\n",
        "\n",
        "df['sentimenttextblob'] = df['reviewText'].apply(analyzesentimenttextblob)\n",
        "\n",
        "# Sentiment analysis using VADER\n",
        "def analyzesentimentvader(text):\n",
        "    analyzer = SentimentIntensityAnalyzer()\n",
        "    compoundscore = analyzer.polarity_scores(text)['compound']\n",
        "    return 'positive' if compoundscore >= 0.05 else 'negative' if compoundscore <= -0.05 else 'neutral'\n",
        "\n",
        "df['sentimentvader'] = df['reviewText'].apply(analyzesentimentvader)\n",
        "\n",
        "# Evaluate accuracy\n",
        "truelabels = df['overall'].apply(lambda x: 'positive' if x >= 4 else 'negative')\n",
        "accuracytextblob = accuracy_score(truelabels, df['sentimenttextblob'])\n",
        "accuracyvader = accuracy_score(truelabels, df['sentimentvader'])\n",
        "\n",
        "print(f'Accuracy TextBlob: {accuracytextblob}')\n",
        "print(f'Accuracy VADER: {accuracyvader}')"
      ]
    }
  ]
}